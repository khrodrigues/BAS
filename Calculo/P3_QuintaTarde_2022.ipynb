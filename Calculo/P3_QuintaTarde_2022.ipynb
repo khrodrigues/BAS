{
 "cells": [
  {
   "cell_type": "markdown",
   "id": "3cc6e39b",
   "metadata": {},
   "source": [
    "### Para iniciarmos a resolução dessa prova, irei apresentar todos os comandos utilizados, caso queira se interar mais no assunto, recomendo o material criado pelo professor **Ricardo** que se chama: *\"Tutorial rápido de Python para Matemáticos\"* e pode ser encontrado no link: (https://rmiranda99.github.io/tutorial-math-python/6-limites-derivadas-integrais.html)\n"
   ]
  },
  {
   "cell_type": "markdown",
   "id": "5ee6413f",
   "metadata": {},
   "source": [
    "Inicialmente precisaremos importar a biblioteca SymPy, sempre colocaremos a linha que faz o carregamento dessa bibliotenca no início do código."
   ]
  },
  {
   "cell_type": "markdown",
   "id": "40c874a0",
   "metadata": {},
   "source": [
    "Resolver uma integral no Python é muito fácil: o comando é integrante(f,x) ou integrate(f,(x,a,b)) se for uma integral definida, com $x$ ∈ $\\left [ a,b \\right ]$ \n",
    "\n",
    "$\\textbf{Exemplo:}$$\\int 3*x^2-cos(x)$ "
   ]
  },
  {
   "cell_type": "code",
   "execution_count": 1,
   "id": "f99be0ae",
   "metadata": {},
   "outputs": [
    {
     "data": {
      "text/latex": [
       "$\\displaystyle x^{3} - \\sin{\\left(x \\right)}$"
      ],
      "text/plain": [
       "x**3 - sin(x)"
      ]
     },
     "execution_count": 1,
     "metadata": {},
     "output_type": "execute_result"
    }
   ],
   "source": [
    "import sympy as sp\n",
    "x = sp.symbols('x')\n",
    "f=3*x**2-sp.cos(x)\n",
    "sp.integrate(f,x)"
   ]
  },
  {
   "cell_type": "markdown",
   "id": "089b04e3",
   "metadata": {},
   "source": [
    "$\\textbf{Exemplo 2:}$ $\\int_0^\\pi  3*x^2-cos(x)$"
   ]
  },
  {
   "cell_type": "code",
   "execution_count": 9,
   "id": "3144cd48",
   "metadata": {},
   "outputs": [
    {
     "data": {
      "text/latex": [
       "$\\displaystyle \\pi^{3}$"
      ],
      "text/plain": [
       "pi**3"
      ]
     },
     "execution_count": 9,
     "metadata": {},
     "output_type": "execute_result"
    }
   ],
   "source": [
    "import sympy as sp\n",
    "x = sp.symbols('x')\n",
    "f=3*x**2-sp.cos(x)\n",
    "sp.integrate(f,(x,0,sp.pi))"
   ]
  },
  {
   "cell_type": "markdown",
   "id": "e0c28827",
   "metadata": {},
   "source": [
    "Agora vamos ao que interessa que é resolver a prova usando o Python"
   ]
  },
  {
   "cell_type": "markdown",
   "id": "4ece8799",
   "metadata": {},
   "source": [
    " $\\textbf{Questão 1: Seja $g(x)=\\int_{\\sqrt{x}}^{x}\\sqrt[3]{t^4+1}dt$. Encontre $g'(x)$.}$"
   ]
  },
  {
   "cell_type": "markdown",
   "id": "651f0615",
   "metadata": {},
   "source": [
    "Essa questão nós não conseguimos fazê-la em Python, para resolvê-la basta fazer as seguintes manipualações algébricas:\n",
    "\n",
    "Integrando:$g(x)=\\int_{\\sqrt{x}}^{x}\\sqrt[3]{t^4+1}dt= F(x)-F(\\sqrt{x})$"
   ]
  },
  {
   "cell_type": "markdown",
   "id": "c744ae0c",
   "metadata": {},
   "source": [
    "Aplicando a regra da cadeia:\n",
    "$g'(x)=(F(x)-F(\\sqrt{x})'=F'(x)-F'(\\sqrt{x})*\\frac{1}{2\\sqrt{x}}$\n",
    "\n",
    "Substituindo $F'(t)=f(t)=\\sqrt[3]{t^4+1}$"
   ]
  },
  {
   "cell_type": "markdown",
   "id": "e177dd27",
   "metadata": {},
   "source": [
    "Logo $g'(x)=\\sqrt[3]{x^4+1}-\\frac{\\sqrt[3]{x^2+1}}{2\\sqrt{x}}$"
   ]
  },
  {
   "cell_type": "markdown",
   "id": "0edb71ca",
   "metadata": {},
   "source": [
    "$\\textbf{Questão 2: Calcule as seguintes integrais}$"
   ]
  },
  {
   "cell_type": "markdown",
   "id": "76ebb49d",
   "metadata": {},
   "source": [
    "$$A)\\int \\frac{x}{\\sqrt{x+1}}dx$$"
   ]
  },
  {
   "cell_type": "markdown",
   "id": "2b4e1c3c",
   "metadata": {},
   "source": [
    "Primeiramente, vamos fazer umas manipulações algébricas antes de colocar a integral para o Python resolver."
   ]
  },
  {
   "cell_type": "markdown",
   "id": "d95a7c8d",
   "metadata": {},
   "source": [
    "Fazendo a substituição $u = x + 1$ obtemos $du = dx$ e\n",
    "$\\int \\frac{x}{\\sqrt{x+1}}dx=\\int \\frac{u-1}{\\sqrt{u}}du=\\int (u^{1/2}-u^{-1/2})du$ \n",
    "\n",
    "A integral $\\int (u^{1/2}-u^{-1/2})du$ o Pythom consegue resolver, basta só aplica-la igual o exemplo do começo."
   ]
  },
  {
   "cell_type": "code",
   "execution_count": 35,
   "id": "d9318e92",
   "metadata": {},
   "outputs": [
    {
     "data": {
      "text/latex": [
       "$\\displaystyle - 2.0 u^{0.5} + 0.666666666666667 u^{1.5}$"
      ],
      "text/plain": [
       "-2.0*u**0.5 + 0.666666666666667*u**1.5"
      ]
     },
     "execution_count": 35,
     "metadata": {},
     "output_type": "execute_result"
    }
   ],
   "source": [
    "import sympy as sp\n",
    "u = sp.symbols('u')\n",
    "f=u**(1/2)-u**(-1/2)\n",
    "sp.integrate(f,u)"
   ]
  },
  {
   "cell_type": "markdown",
   "id": "515ceaf7",
   "metadata": {},
   "source": [
    "Logo $\\int (u^{1/2}-u^{-1/2})du = 2*\\sqrt{u}+\\frac{2*\\sqrt{u^3}}{3}+C=2\\sqrt{u}(\\frac{u}{3}-1)+C$ Não podemos esquecer da constante de integração C"
   ]
  },
  {
   "cell_type": "markdown",
   "id": "1d04d3f7",
   "metadata": {},
   "source": [
    "Agora só desfazer a substituição $u=x+1$ e teremos o resultado: $2\\sqrt{x+1}(\\frac{x+1}{3}-1)+C=2\\sqrt{x+1}(\\frac{x-2}{3})+C$\n",
    "\n",
    "Logo a resposta final é: $$2\\sqrt{x+1}(\\frac{x-2}{3})+C$$"
   ]
  },
  {
   "cell_type": "markdown",
   "id": "e72c818b",
   "metadata": {},
   "source": [
    "$$B)\\int \\frac{1}{(x^2+1)^{3/2}}dx$$"
   ]
  },
  {
   "cell_type": "markdown",
   "id": "4ef0c974",
   "metadata": {},
   "source": [
    "Assim como na anterior, vamos precisar fazer umas manipulações algébricas antes.\n",
    "\n",
    "Fazendo $x=tan(\\theta )$ teremos também $dx=sec^2(\\theta)d\\theta$"
   ]
  },
  {
   "cell_type": "markdown",
   "id": "33461af8",
   "metadata": {},
   "source": [
    "$\\int \\frac{1}{(x^2+1)^{3/2}}dx=\\int \\frac{1}{(tan(\\theta)^2+1)^{3/2}}sec^2(\\theta)d\\theta=\\int\\frac{1}{(sec^2(\\theta))^{3/2}}*sec^2(\\theta)d\\theta=\\int cos(\\theta)d\\theta$"
   ]
  },
  {
   "cell_type": "markdown",
   "id": "c88ef69d",
   "metadata": {},
   "source": [
    "Agora $\\int cos(\\theta)d\\theta$ conseguimos integra com o python"
   ]
  },
  {
   "cell_type": "code",
   "execution_count": 34,
   "id": "25692f2c",
   "metadata": {},
   "outputs": [
    {
     "data": {
      "text/latex": [
       "$\\displaystyle \\sin{\\left(\\theta \\right)}$"
      ],
      "text/plain": [
       "sin(theta)"
      ]
     },
     "execution_count": 34,
     "metadata": {},
     "output_type": "execute_result"
    }
   ],
   "source": [
    "import sympy as sp\n",
    "theta = sp.symbols('theta')\n",
    "f=sp.cos(theta)\n",
    "sp.integrate(f,theta)"
   ]
  },
  {
   "attachments": {
    "image.png": {
     "image/png": "[encoded data removed]"
    }
   },
   "cell_type": "markdown",
   "id": "f0c63ae7",
   "metadata": {},
   "source": [
    "Logo obtemos que a integral é igual a $sen(\\theta)+C$ \n",
    "\n",
    "Agora vamos usar o seguinte triângulo para conseguir voltar pra variável X\n",
    "![image.png](attachment:image.png)\n",
    "Com ele obtemos que $sen(x)=\\frac{x}{\\sqrt{x^2+1}}$"
   ]
  },
  {
   "cell_type": "markdown",
   "id": "acd28755",
   "metadata": {},
   "source": [
    "Logo $\\int \\frac{1}{(x^2+1)^{3/2}}dx=\\frac{x}{\\sqrt{x^2+1}}$"
   ]
  },
  {
   "cell_type": "markdown",
   "id": "551fad87",
   "metadata": {},
   "source": [
    "$\\textbf{Questâo 3: Calcule a integral}$"
   ]
  },
  {
   "cell_type": "markdown",
   "id": "c97bb474",
   "metadata": {},
   "source": [
    "$$\\int \\frac{e^x}{e^{2x}+3e^x+2}$$"
   ]
  },
  {
   "cell_type": "markdown",
   "id": "0383b6b6",
   "metadata": {},
   "source": [
    "Essa questão não precisaremos fazer manipulação nenhuma para obtermos a resposta, basta só jogar no python igual no exemplo"
   ]
  },
  {
   "cell_type": "code",
   "execution_count": 39,
   "id": "b41381c7",
   "metadata": {},
   "outputs": [
    {
     "data": {
      "text/latex": [
       "$\\displaystyle \\log{\\left(e^{x} + 1 \\right)} - \\log{\\left(e^{x} + 2 \\right)}$"
      ],
      "text/plain": [
       "log(exp(x) + 1) - log(exp(x) + 2)"
      ]
     },
     "execution_count": 39,
     "metadata": {},
     "output_type": "execute_result"
    }
   ],
   "source": [
    "import sympy as sp\n",
    "x = sp.symbols('x')\n",
    "f=(sp.exp(x)/(sp.exp(2*x)+3*sp.exp(x)+2))\n",
    "sp.integrate(f,x)"
   ]
  },
  {
   "cell_type": "markdown",
   "id": "146946c6",
   "metadata": {},
   "source": [
    "Logo a resposta é $ln(\\frac{e^x+1}{e^x+2})+C$"
   ]
  },
  {
   "cell_type": "markdown",
   "id": "b22df303",
   "metadata": {},
   "source": [
    "$\\textbf{Questão 4: Avalie a convergência da integral imprópria}$"
   ]
  },
  {
   "cell_type": "markdown",
   "id": "e5939d14",
   "metadata": {},
   "source": [
    "$$\\int_{0}^{\\infty}x*e^{-x}dx$$"
   ]
  },
  {
   "cell_type": "code",
   "execution_count": 42,
   "id": "59a26cdf",
   "metadata": {},
   "outputs": [
    {
     "ename": "SyntaxError",
     "evalue": "unexpected EOF while parsing (895889571.py, line 4)",
     "output_type": "error",
     "traceback": [
      "\u001b[1;36m  File \u001b[1;32m\"C:\\Users\\kaior\\AppData\\Local\\Temp\\ipykernel_26564\\895889571.py\"\u001b[1;36m, line \u001b[1;32m4\u001b[0m\n\u001b[1;33m    sp.integrate(f,(x,0,sp.oo)\u001b[0m\n\u001b[1;37m                              ^\u001b[0m\n\u001b[1;31mSyntaxError\u001b[0m\u001b[1;31m:\u001b[0m unexpected EOF while parsing\n"
     ]
    }
   ],
   "source": [
    "import sympy as sp\n",
    "x = sp.symbols('x')\n",
    "f=x*sp.exp(-x)\n",
    "sp.integrate(f,(x,0,sp.oo)"
   ]
  },
  {
   "cell_type": "markdown",
   "id": "fb02f309",
   "metadata": {},
   "source": [
    "$\\textbf{Questão 5: Seja $R$ a região limitada pelas curvas}$ $y-2x^2$ e $y=3-x^2$"
   ]
  },
  {
   "cell_type": "markdown",
   "id": "9958f46c",
   "metadata": {},
   "source": [
    "$\\textbf{a) Esboce $R$ e calcule a sua área}$"
   ]
  },
  {
   "cell_type": "markdown",
   "id": "43f2827c",
   "metadata": {},
   "source": [
    "Primeiramente, vamos isolar o y na primeira função para que possamos igualar as duas funções e achar os pontos em que elas se interceptam"
   ]
  },
  {
   "cell_type": "markdown",
   "id": "6a768c9b",
   "metadata": {},
   "source": [
    "$$y-2x^2=0$$ $$y=2x^2$$"
   ]
  },
  {
   "cell_type": "markdown",
   "id": "c89d1327",
   "metadata": {},
   "source": [
    "Agora igualamos uma equação a outra e ficaremos com:\n",
    "$$2x^2=3-x^2$$ $$3x^2-3=0$$"
   ]
  },
  {
   "cell_type": "markdown",
   "id": "51f0a56a",
   "metadata": {},
   "source": [
    "Agora vamos achar o zero dessa equação e descobriremos onde as funções se interceptam, para isso usaremos o python e a função solve que nos retorna os zeros reais da função:"
   ]
  },
  {
   "cell_type": "code",
   "execution_count": 3,
   "id": "daee0c28",
   "metadata": {},
   "outputs": [
    {
     "data": {
      "text/plain": [
       "[-1, 1]"
      ]
     },
     "execution_count": 3,
     "metadata": {},
     "output_type": "execute_result"
    }
   ],
   "source": [
    "import sympy as sp\n",
    "x = sp.symbols('x')\n",
    "sp.solve(3*x**2-3)"
   ]
  },
  {
   "cell_type": "markdown",
   "id": "75e2e3e5",
   "metadata": {},
   "source": [
    "Com isso, sabemos que as funções se interceptam quando $x=-1$ e quando $x=1$ agora vamos plotar o gráfico para saber qual função está por cima e qual função está por baixo"
   ]
  },
  {
   "cell_type": "code",
   "execution_count": 6,
   "id": "2fd9180e",
   "metadata": {},
   "outputs": [
    {
     "data": {
      "image/png": "[encoded data removed]",
      "text/plain": [
       "<Figure size 640x480 with 1 Axes>"
      ]
     },
     "metadata": {},
     "output_type": "display_data"
    },
    {
     "data": {
      "text/plain": [
       "<sympy.plotting.plot.Plot at 0x1a5f739db20>"
      ]
     },
     "execution_count": 6,
     "metadata": {},
     "output_type": "execute_result"
    }
   ],
   "source": [
    "import sympy as sp\n",
    "x = sp.symbols('x')\n",
    "sp.plot(2*x**2,3-x**2,(x,-3,3),ylim=[-10,10])"
   ]
  },
  {
   "cell_type": "markdown",
   "id": "bfdbf57e",
   "metadata": {},
   "source": [
    "Com isso sabemos que a função $3-x^2$ está por cima e a função $2x**2$ está por baixo, agora basta fazer a integral definida para saber a área entre elas."
   ]
  },
  {
   "cell_type": "code",
   "execution_count": 8,
   "id": "dffe0695",
   "metadata": {},
   "outputs": [
    {
     "data": {
      "text/latex": [
       "$\\displaystyle 4$"
      ],
      "text/plain": [
       "4"
      ]
     },
     "execution_count": 8,
     "metadata": {},
     "output_type": "execute_result"
    }
   ],
   "source": [
    "import sympy as sp\n",
    "x = sp.symbols('x')\n",
    "f=(3-x**2-2*x**2)\n",
    "sp.integrate(f,(x,-1,1))"
   ]
  },
  {
   "cell_type": "markdown",
   "id": "6b7bd4ed",
   "metadata": {},
   "source": [
    "Logo a área entres as curvas é igual a $4$."
   ]
  },
  {
   "cell_type": "markdown",
   "id": "81b5d78c",
   "metadata": {},
   "source": [
    "$\\textbf{b) Calcule o volume do sólido gerado pela rotação de $R$ em torno do eixo x}$"
   ]
  },
  {
   "cell_type": "markdown",
   "id": "5576fc5d",
   "metadata": {},
   "source": [
    "Para resolver essa, basta fazer a integral definida:"
   ]
  },
  {
   "cell_type": "code",
   "execution_count": 13,
   "id": "9eede57a",
   "metadata": {},
   "outputs": [
    {
     "data": {
      "text/latex": [
       "$\\displaystyle \\frac{64 \\pi}{5}$"
      ],
      "text/plain": [
       "64*pi/5"
      ]
     },
     "execution_count": 13,
     "metadata": {},
     "output_type": "execute_result"
    }
   ],
   "source": [
    "import sympy as sp\n",
    "x = sp.symbols('x')\n",
    "f=sp.pi*((3-x**2)**2-(-2*x**2)**2)\n",
    "sp.integrate(f,(x,-1,1))"
   ]
  },
  {
   "cell_type": "markdown",
   "id": "0b988655",
   "metadata": {},
   "source": [
    "Logo o volume do sólido é $\\frac{64\\pi}{5}$"
   ]
  },
  {
   "cell_type": "code",
   "execution_count": null,
   "id": "aa2aa43c",
   "metadata": {},
   "outputs": [],
   "source": []
  }
 ],
 "metadata": {
  "kernelspec": {
   "display_name": "Python 3 (ipykernel)",
   "language": "python",
   "name": "python3"
  },
  "language_info": {
   "codemirror_mode": {
    "name": "ipython",
    "version": 3
   },
   "file_extension": ".py",
   "mimetype": "text/x-python",
   "name": "python",
   "nbconvert_exporter": "python",
   "pygments_lexer": "ipython3",
   "version": "3.9.13"
  }
 },
 "nbformat": 4,
 "nbformat_minor": 5
}
